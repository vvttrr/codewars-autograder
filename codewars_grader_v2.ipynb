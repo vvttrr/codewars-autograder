{
 "cells": [
  {
   "cell_type": "markdown",
   "id": "ee62c9a9",
   "metadata": {},
   "source": [
    "## Codewars Grader\n",
    "Vitor Gonçalves\n",
    "vgoncalves@usn.org\n",
    "\n",
    "---\n",
    "\n",
    "> Note: Need to add ability to take in CSV files of the student's usernames </br>\n",
    "> Note: Need to add ability to grade certain codewars id's\n",
    "\n",
    "procedure:\n",
    "1. get list of students usernames in a CSV file\n",
    "2. get list of codewars ids assigned in a CSV file, id, name, number of points\n",
    "3. create a function that can grade a single question to each user\n",
    "4. add pandas columns to those questions, either a true or false from the function\n",
    "5. create a function that reads each test question column and grades it in a new column\n",
    "6. add input to that function that only shows the grade or the \n",
    "\n",
    "---\n",
    "link: https://dev.codewars.com/#get-user"
   ]
  },
  {
   "cell_type": "code",
   "execution_count": null,
   "id": "e28a9555-53db-4154-909b-6b769ba68f90",
   "metadata": {},
   "outputs": [],
   "source": []
  },
  {
   "cell_type": "code",
   "execution_count": null,
   "id": "5df80933",
   "metadata": {},
   "outputs": [],
   "source": [
    "import requests\n",
    "import pandas as pd\n",
    "import time"
   ]
  },
  {
   "cell_type": "markdown",
   "id": "9930ae20",
   "metadata": {},
   "source": [
    "## IMPORT CSV\n",
    "\n",
    "link: https://sparkbyexamples.com/pandas/pandas-read-excel-multiple-sheets-in-pandas/"
   ]
  },
  {
   "cell_type": "markdown",
   "id": "2db31ee2",
   "metadata": {},
   "source": [
    "## QUESTION SUMMARY FUNCTIONS"
   ]
  },
  {
   "cell_type": "code",
   "execution_count": null,
   "id": "80951a0f",
   "metadata": {},
   "outputs": [],
   "source": [
    "def getKataResponse(kata_id):\n",
    "    #INPUT: string of the question id\n",
    "    #OUTPUT: Total JSON of the challenge question\n",
    "    response = requests.get(f\"https://www.codewars.com/api/v1/code-challenges/{kata_id}\")\n",
    "    return response"
   ]
  },
  {
   "cell_type": "code",
   "execution_count": null,
   "id": "5249a847",
   "metadata": {},
   "outputs": [],
   "source": [
    "def kataDetails(kata_id):\n",
    "    #INPUT: json of the kata info\n",
    "    #OUTPUT: Pandas Dataframe containing name, slug, rank, url\n",
    "    json = getKataResponse(kata_id).json()\n",
    "    \n",
    "    name = json[\"name\"]\n",
    "    slug = json[\"slug\"]\n",
    "    rank = json[\"rank\"][\"name\"]\n",
    "    url = json[\"url\"]\n",
    "    \n",
    "    return pd.DataFrame({\n",
    "        \"Name\":[name],\n",
    "        \"Slug\":[slug],\n",
    "        \"Rank\":[rank],\n",
    "        \"URL\":[url],\n",
    "    })"
   ]
  },
  {
   "cell_type": "markdown",
   "id": "48e48a9f",
   "metadata": {},
   "source": [
    "## USER SUMMARY FUNCTIONS"
   ]
  },
  {
   "cell_type": "code",
   "execution_count": null,
   "id": "0a5ac356",
   "metadata": {},
   "outputs": [],
   "source": [
    "def getSummaryResponse(user):\n",
    "    #INPUT: string of the student's username\n",
    "    #OUTPUT: API Response from the codewars website, user's summary\n",
    "    \n",
    "    response = requests.get(f\"https://www.codewars.com/api/v1/users/{user}\")\n",
    "    return response"
   ]
  },
  {
   "cell_type": "code",
   "execution_count": null,
   "id": "c91afe1b",
   "metadata": {},
   "outputs": [],
   "source": [
    "def readUserSummary(response):\n",
    "    #INPUT: Https response from codewars\n",
    "    #OUTPUT: PANDAS Dataframe containing the information we can about\n",
    "    \n",
    "    #creates the required columns from codewars\n",
    "    name = response.json()[\"name\"]\n",
    "    user = response.json()[\"username\"]\n",
    "    pyrank = response.json()['ranks'][\"languages\"][\"python\"][\"rank\"]\n",
    "    pyscore = response.json()['ranks'][\"languages\"][\"python\"][\"score\"]\n",
    "    completed = response.json()['codeChallenges']['totalCompleted']\n",
    "    \n",
    "    return pd.DataFrame({\"Name\": [name],\n",
    "                         \"User\": [user],\n",
    "                        \"Rank\": [pyrank],\n",
    "                        \"Score\": [pyscore],\n",
    "                        \"Completed\": [completed]})"
   ]
  },
  {
   "cell_type": "code",
   "execution_count": null,
   "id": "76d8a434",
   "metadata": {},
   "outputs": [],
   "source": [
    "def printClassSummary(list_of_students):\n",
    "    #INPUT: pd Series containing the list of their usernames\n",
    "    #OUTPUT: pd DataFrame with students organized by score and number of kata they have completed\n",
    "    students = pd.DataFrame({\n",
    "            \"Name\": [],\n",
    "            \"User\": [],\n",
    "            \"Rank\": [],\n",
    "            \"Score\": [],\n",
    "            \"Completed\": []\n",
    "        })\n",
    "    for i in list_of_students:\n",
    "        new_data = readUserSummary(getSummaryResponse(i))\n",
    "        students = pd.concat([students,new_data],ignore_index=True)\n",
    "    return students.sort_values(by=['Score','Completed'],ascending=False)"
   ]
  },
  {
   "cell_type": "markdown",
   "id": "363e2770",
   "metadata": {},
   "source": [
    "## USER CHALLENGE FUNCTIONS"
   ]
  },
  {
   "cell_type": "code",
   "execution_count": null,
   "id": "3575a0fe",
   "metadata": {},
   "outputs": [],
   "source": [
    "def getChallengeResponse(user, page = 0):\n",
    "    #INPUT: string of the student's username\n",
    "    #OUTPUT: API Response from the codewars website, list of completed challenges\n",
    "    \n",
    "    response = requests.get(f\"https://www.codewars.com/api/v1/users/{user}/code-challenges/completed?page={page}\")\n",
    "    \n",
    "    return response"
   ]
  },
  {
   "cell_type": "code",
   "execution_count": null,
   "id": "b483ab3c",
   "metadata": {},
   "outputs": [],
   "source": [
    "def checkChallenge(username, assignmentid):\n",
    "    #INPUT: string of the username, string of the assignment id\n",
    "    #OUTPUT: Boolean on the result of the search\n",
    "    \n",
    "    kataPages = getChallengeResponse(username).json()[\"totalPages\"]\n",
    "    #print(type(kataPages))\n",
    "    \n",
    "    for page in range(kataPages):\n",
    "        challengeList = getChallengeResponse(username, page).json()[\"data\"]\n",
    "        for kata in challengeList:\n",
    "            if kata[\"id\"] == assignmentid:\n",
    "                return (kata[\"name\"], kata['completedLanguages'], True)\n",
    "    return (kataDetails(assignmentid)[\"Name\"],kata['completedLanguages'], False)"
   ]
  },
  {
   "cell_type": "markdown",
   "id": "1b30f177",
   "metadata": {},
   "source": [
    "## Bulk Read and Grade Functions"
   ]
  },
  {
   "cell_type": "code",
   "execution_count": null,
   "id": "5103d84e",
   "metadata": {},
   "outputs": [],
   "source": [
    "def openGoogleSheet(sheet_id, sheet_name):\n",
    "    pass\n",
    "    #url = "
   ]
  },
  {
   "cell_type": "code",
   "execution_count": null,
   "id": "0e2cc838",
   "metadata": {},
   "outputs": [],
   "source": [
    "def readUserCompleted(csvUserids, csvHomeworkids):\n",
    "    #INPUT: \n",
    "        # username of the student,\n",
    "        # csv of the list of ids for the homework\n",
    "            # homework ids\n",
    "            # homework names\n",
    "            # homework points\n",
    "    #OUTPUT: points gained / points listed * 100\n",
    "    for user in csvUserids:\n",
    "        for hw in csvHomeworkids:\n",
    "            checkChallenge(user, hw)"
   ]
  },
  {
   "cell_type": "markdown",
   "id": "3ebd48ac-6747-4c7e-b570-fd5641b59eea",
   "metadata": {},
   "source": [
    "## Loading the Google Sheet\n",
    "\n",
    "each sheet corresponds to a different hw assignment and also a different HW set of questions\n"
   ]
  },
  {
   "cell_type": "code",
   "execution_count": null,
   "id": "5e9ae495-f9f0-4026-ac67-0b24e1366e82",
   "metadata": {},
   "outputs": [],
   "source": [
    "#security, make sure noone else can find my personal google sheet\n",
    "\n",
    "from configparser import ConfigParser\n",
    "\n",
    "parser = ConfigParser()\n",
    "_ = parser.read(\"notebook.cfg\")\n",
    "\n",
    "sheet_id = parser.get(\"sheet_id\",\"auth_key\")"
   ]
  },
  {
   "cell_type": "code",
   "execution_count": null,
   "id": "f7021080-5083-4bee-bf10-50c6b8ea050f",
   "metadata": {},
   "outputs": [],
   "source": [
    "a_period = \"A%20Roster\"\n",
    "h_period = \"H%20Roster\"\n",
    "\n",
    "\n",
    "hw_1 = \"hw1\"\n",
    "hw_2 = \"hw2\"\n",
    "hw_3 = \"hw3\"\n",
    "\n",
    "a_roster = pd.read_csv(f\"https://docs.google.com/spreadsheets/d/{sheet_id}/gviz/tq?tqx=out:csv&sheet={a_period}\")\n",
    "h_roster = pd.read_csv(f\"https://docs.google.com/spreadsheets/d/{sheet_id}/gviz/tq?tqx=out:csv&sheet={h_period}\")\n",
    "\n",
    "hw1_df = pd.read_csv(f\"https://docs.google.com/spreadsheets/d/{sheet_id}/gviz/tq?tqx=out:csv&sheet={hw_1}\")\n",
    "hw2_df = pd.read_csv(f\"https://docs.google.com/spreadsheets/d/{sheet_id}/gviz/tq?tqx=out:csv&sheet={hw_2}\")\n",
    "hw3_df = pd.read_csv(f\"https://docs.google.com/spreadsheets/d/{sheet_id}/gviz/tq?tqx=out:csv&sheet={hw_3}\")"
   ]
  },
  {
   "cell_type": "markdown",
   "id": "88a58111-83cc-428d-9934-ba8d68d5e96c",
   "metadata": {},
   "source": [
    "## Grading Function\n",
    "* inputs: Roster Dataframe, Homework Dataframe\n",
    "* outputs: Grading Dataframe: [columns: Name, rows: T/F Completed]\n",
    "---"
   ]
  },
  {
   "cell_type": "code",
   "execution_count": null,
   "id": "4db09ecb",
   "metadata": {
    "tags": []
   },
   "outputs": [],
   "source": [
    "def grading(roster, hw_df, missing=False):\n",
    "    df_students = pd.DataFrame()  \n",
    "    columns = [\"First\", \"Last\", \"Username\"]\n",
    "    print(roster.loc[:,columns])\n",
    "    for index in range(len(roster.loc[:,columns])):\n",
    "        student = roster.loc[index,columns]\n",
    "        user = student[\"Username\"]\n",
    "        name = student[\"First\"]\n",
    "        print(f\"Grading: {name}\")\n",
    "        grades = []\n",
    "        for question in hw_df[\"Kata ID\"]:\n",
    "            grade = checkChallenge(user, question)\n",
    "            if missing:\n",
    "                #print(f\"    Missing:\")\n",
    "                if grade[2]==False:\n",
    "                    print(f\"    {grade[0].iloc[0]}\")\n",
    "            grades.append(grade[2])\n",
    "        df_students.insert(0, \", \".join(student[[\"Last\",\"First\"]]), grades)\n",
    "    df_students[\"Qs\"] = hw_df[\"name\"]\n",
    "    print(\"Finished\")\n",
    "    return df_students.set_index(\"Qs\")\n",
    "\n",
    "#hw2_a = grading(a_roster,hw2_df)\n",
    "#hw2_h = grading(h_roster,hw2_df)"
   ]
  },
  {
   "cell_type": "code",
   "execution_count": null,
   "id": "a2c07f82-1722-4e11-8621-5e3993d154b5",
   "metadata": {},
   "outputs": [],
   "source": [
    "points = lambda graded_hw, points: graded_hw.sum().div(len(graded_hw)).mul(points).sort_index()\n"
   ]
  },
  {
   "cell_type": "markdown",
   "id": "7eb9a1d9-5471-49e4-be89-f12428c2fd33",
   "metadata": {},
   "source": [
    "## HW 1 Grading\n"
   ]
  },
  {
   "cell_type": "code",
   "execution_count": null,
   "id": "f4270107-9f5c-4f68-99ce-053f67c05233",
   "metadata": {},
   "outputs": [],
   "source": [
    "hw1_a = grading(a_roster,hw1_df)\n",
    "#time.sleep(5)\n",
    "#hw1_h = grading(h_roster,hw1_df, True)"
   ]
  },
  {
   "cell_type": "code",
   "execution_count": null,
   "id": "531e9f8c-b516-4238-8114-88b4b0bf2c9b",
   "metadata": {},
   "outputs": [],
   "source": [
    "print(\"A ROSTER HW 1\")\n",
    "print(points(hw1_a, 12))\n",
    "#print(\"H ROSTER HW 1\")\n",
    "#print(points(hw1_h, 12))"
   ]
  },
  {
   "cell_type": "code",
   "execution_count": null,
   "id": "27ae229b-b560-44d9-8183-2c15301c49c9",
   "metadata": {},
   "outputs": [],
   "source": [
    "#hw1_a\n",
    "hw1_h"
   ]
  },
  {
   "cell_type": "markdown",
   "id": "d9c64a57-436b-451a-8c39-b1092f0eaeb1",
   "metadata": {},
   "source": [
    "## HW 2 Grading"
   ]
  },
  {
   "cell_type": "code",
   "execution_count": null,
   "id": "a694d975-e6d7-41b2-8a8b-11dc12fed7a5",
   "metadata": {},
   "outputs": [],
   "source": [
    "hw2_a = grading(a_roster,hw2_df,True)\n",
    "#time.sleep(5)\n",
    "#hw2_h = grading(h_roster,hw2_df,True)"
   ]
  },
  {
   "cell_type": "code",
   "execution_count": null,
   "id": "c5cc16fa-766b-46f6-a2c9-9633083d0171",
   "metadata": {},
   "outputs": [],
   "source": [
    "#print(\"A ROSTER HW 2\")\n",
    "#print(points(hw2_a, 12))\n",
    "print(\"H ROSTER HW 2\")\n",
    "print(points(hw2_h, 12))"
   ]
  },
  {
   "cell_type": "markdown",
   "id": "fd7ab6d6-f1cd-4839-ae2c-b22235396157",
   "metadata": {
    "tags": []
   },
   "source": [
    "### checking hw2 for roster H\n",
    "\n",
    "hw2_h = grading(h_roster,hw2_df, True)"
   ]
  },
  {
   "cell_type": "code",
   "execution_count": null,
   "id": "c1f6a9a9-b5d1-4be2-b309-358330b4b2fb",
   "metadata": {},
   "outputs": [],
   "source": [
    "hw2_a.sort_index(1)\n",
    "#hw2_h.sort_index(1)"
   ]
  },
  {
   "cell_type": "markdown",
   "id": "51e875d6-0e59-4a3f-b1f3-2c4074da9400",
   "metadata": {},
   "source": [
    "## HW 3 Grading"
   ]
  },
  {
   "cell_type": "code",
   "execution_count": null,
   "id": "b3505afa-e52e-406f-bc5f-68272bdf436a",
   "metadata": {},
   "outputs": [],
   "source": [
    "#hw3_a = grading(a_roster, hw3_df,True)\n",
    "#time.sleep(5)\n",
    "hw3_h = grading(h_roster,hw3_df,True)"
   ]
  },
  {
   "cell_type": "code",
   "execution_count": null,
   "id": "06babc9b-58b0-4ac4-ae43-3bec37ac461d",
   "metadata": {},
   "outputs": [],
   "source": [
    "print(\"A ROSTER HW 3\")\n",
    "print(points(hw3_a, 11))\n",
    "print(\"H ROSTER HW 3\")\n",
    "print(points(hw3_h, 11))"
   ]
  }
 ],
 "metadata": {
  "kernelspec": {
   "display_name": "Python 3 (ipykernel)",
   "language": "python",
   "name": "python3"
  },
  "language_info": {
   "codemirror_mode": {
    "name": "ipython",
    "version": 3
   },
   "file_extension": ".py",
   "mimetype": "text/x-python",
   "name": "python",
   "nbconvert_exporter": "python",
   "pygments_lexer": "ipython3",
   "version": "3.9.12"
  }
 },
 "nbformat": 4,
 "nbformat_minor": 5
}
